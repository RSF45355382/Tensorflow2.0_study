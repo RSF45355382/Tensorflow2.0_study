{
 "cells": [
  {
   "cell_type": "code",
   "execution_count": 1,
   "metadata": {},
   "outputs": [],
   "source": [
    "import tensorflow as tf "
   ]
  },
  {
   "cell_type": "code",
   "execution_count": 2,
   "metadata": {},
   "outputs": [],
   "source": [
    "# 给优化器添加一个动量/惯性因素\n",
    "oprimizer = tf.keras.optimizers.SGD(learning_rate=0.001,momentum=0.9) # 0.9代表本次计算得到的梯度会考虑0.1倍的本次计算多的梯度加0.9倍的上次的梯度值\n",
    "oprimizer = tf.keras.optimizers.RMSprop(learning_rate=0.001,momentum=0.9) \n",
    "\n",
    "oprimizer = tf.keras.optimizers.Adam(learning_rate=0.001,beta_1=0.9,beta_2=0.999) \n",
    "# Adam优化器自身就有了momentum这个概念, 就不需要添加这个参数, 这种优化器用beta_1和beta_2来定义"
   ]
  },
  {
   "cell_type": "code",
   "execution_count": null,
   "metadata": {},
   "outputs": [],
   "source": []
  },
  {
   "cell_type": "code",
   "execution_count": 5,
   "metadata": {},
   "outputs": [],
   "source": [
    "# 学习率递减\n",
    "optimizer = tf.keras.optimizers.RMSprop(learning_rate=0.001) \n",
    "for epoch in range(100):\n",
    "    optimizer.learning_rate = 0.2*(100-epoch)/100 # 指定学习率, learning_rate是优化器的一个属性"
   ]
  },
  {
   "cell_type": "code",
   "execution_count": null,
   "metadata": {},
   "outputs": [],
   "source": []
  },
  {
   "cell_type": "code",
   "execution_count": null,
   "metadata": {},
   "outputs": [],
   "source": []
  },
  {
   "cell_type": "code",
   "execution_count": null,
   "metadata": {},
   "outputs": [],
   "source": []
  }
 ],
 "metadata": {
  "kernelspec": {
   "display_name": "Python 3",
   "language": "python",
   "name": "python3"
  },
  "language_info": {
   "codemirror_mode": {
    "name": "ipython",
    "version": 3
   },
   "file_extension": ".py",
   "mimetype": "text/x-python",
   "name": "python",
   "nbconvert_exporter": "python",
   "pygments_lexer": "ipython3",
   "version": "3.6.8"
  }
 },
 "nbformat": 4,
 "nbformat_minor": 2
}
