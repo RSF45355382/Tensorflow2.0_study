{
 "cells": [
  {
   "cell_type": "code",
   "execution_count": 1,
   "metadata": {},
   "outputs": [],
   "source": [
    "import tensorflow as tf \n",
    "from tensorflow.keras import layers,Sequential"
   ]
  },
  {
   "cell_type": "markdown",
   "metadata": {},
   "source": [
    "## 以下是ResNet的基本层的实现, 但是ResNet的基本组成单元block是几个这样的层组成的一个实体"
   ]
  },
  {
   "cell_type": "code",
   "execution_count": 6,
   "metadata": {},
   "outputs": [],
   "source": [
    "class BasicBlock(layers.Layer):\n",
    "    def __init__(self, filter_num,stride = 1):\n",
    "        self.conv1 = layers.Conv2D(filter_num,(3,3),strides=strider,padding='SAME')\n",
    "        self.bn1 = layers.BatchNormalization()\n",
    "        self.relu = layers.Activation('relu')\n",
    "        self.conv2 = layers.Conv2D(filter_num,(3,3),strides=1,padding='SAME')\n",
    "        self.bn2 = layers.BatchNormalization()\n",
    "        \n",
    "        # 这里如果设置stride不风雨1,则需要对短接层也进行一个stride间隔采样卷积\n",
    "        if strider != 1:\n",
    "            self.downsample = Sequential()\n",
    "            self.downsample.add(layers.Conv2D(filter_num,(1,1),strides = stride))\n",
    "            self.downsample.add(layers.BatchNormalization())\n",
    "        else:\n",
    "            self.downsample = lambda x:x  # 如果不间隔采样, 则这个短阶层直接就是输入什么输出什么\n",
    "        \n",
    "        self.stride = stride\n",
    "    \n",
    "    def __call__(self,inputs,training = None):\n",
    "        residual = self.downsample(inputs)\n",
    "        conv1 = self.conv1(inputs)\n",
    "        bn1 = self.bn1(conv1)\n",
    "        relu1 = self.relu(bn1)\n",
    "        conv2 = self.conv2(relu1)\n",
    "        bn2 = self.bn2(conv2)\n",
    "        \n",
    "        add = layers.add([bn2,residual])# 这里的相加注意是layers中的相加\n",
    "        out = self.relu(add)\n",
    "        return out "
   ]
  },
  {
   "cell_type": "markdown",
   "metadata": {},
   "source": [
    "## ResNet的基本组成单元"
   ]
  },
  {
   "cell_type": "code",
   "execution_count": 7,
   "metadata": {},
   "outputs": [],
   "source": [
    "def _build_block(block, filter_num, blocks, strides = 1):\n",
    "    res_blocks = Sequential()\n",
    "    res_blocks.add(block(filter_num,stride))\n",
    "    \n",
    "    for i in range(1,blocks):\n",
    "        res_blocks.add(block(filter_num,1))\n",
    "    \n",
    "    return res_blocks"
   ]
  },
  {
   "cell_type": "code",
   "execution_count": null,
   "metadata": {},
   "outputs": [],
   "source": []
  },
  {
   "cell_type": "markdown",
   "metadata": {},
   "source": [
    "# ResNet中的一层只会和前面的邻接的一层有短接(接触), 根据这个理念, 我们创新出了DenseNet, 中间的一层可以和前面的所有层都能短接,这种网络中连接更多, 通道数会不断的堆叠不断的增加."
   ]
  },
  {
   "cell_type": "code",
   "execution_count": null,
   "metadata": {},
   "outputs": [],
   "source": []
  },
  {
   "cell_type": "code",
   "execution_count": null,
   "metadata": {},
   "outputs": [],
   "source": []
  },
  {
   "cell_type": "code",
   "execution_count": null,
   "metadata": {},
   "outputs": [],
   "source": []
  },
  {
   "cell_type": "code",
   "execution_count": null,
   "metadata": {},
   "outputs": [],
   "source": []
  },
  {
   "cell_type": "code",
   "execution_count": null,
   "metadata": {},
   "outputs": [],
   "source": []
  }
 ],
 "metadata": {
  "kernelspec": {
   "display_name": "Python 3",
   "language": "python",
   "name": "python3"
  },
  "language_info": {
   "codemirror_mode": {
    "name": "ipython",
    "version": 3
   },
   "file_extension": ".py",
   "mimetype": "text/x-python",
   "name": "python",
   "nbconvert_exporter": "python",
   "pygments_lexer": "ipython3",
   "version": "3.6.8"
  }
 },
 "nbformat": 4,
 "nbformat_minor": 2
}
