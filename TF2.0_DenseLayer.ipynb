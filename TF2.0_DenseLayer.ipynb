{
 "cells": [
  {
   "cell_type": "code",
   "execution_count": 1,
   "metadata": {},
   "outputs": [],
   "source": [
    "import tensorflow as tf "
   ]
  },
  {
   "cell_type": "code",
   "execution_count": 2,
   "metadata": {},
   "outputs": [],
   "source": [
    "# 现在的DeepLearning基本有成百上千层, 上百层很正常"
   ]
  },
  {
   "cell_type": "code",
   "execution_count": null,
   "metadata": {},
   "outputs": [],
   "source": [
    "# relu函数解决了梯度爆炸/弥散的问题, 使得神经网络能够越来越深"
   ]
  },
  {
   "cell_type": "code",
   "execution_count": 3,
   "metadata": {},
   "outputs": [],
   "source": [
    "input = tf.random.normal([128,784])"
   ]
  },
  {
   "cell_type": "code",
   "execution_count": 4,
   "metadata": {},
   "outputs": [],
   "source": [
    "layer_dense = tf.keras.layers.Dense(512)"
   ]
  },
  {
   "cell_type": "code",
   "execution_count": 9,
   "metadata": {},
   "outputs": [
    {
     "data": {
      "text/plain": [
       "TensorShape([128, 512])"
      ]
     },
     "execution_count": 9,
     "metadata": {},
     "output_type": "execute_result"
    }
   ],
   "source": [
    "output = layer_dense(input)\n",
    "# 调用这个过程会判断这个层是否没build过, 如果没有build过, 会自动进行build\n",
    "# 如果已经build过了, 但是维度不匹配, 则会报错\n",
    "output.shape"
   ]
  },
  {
   "cell_type": "code",
   "execution_count": 10,
   "metadata": {},
   "outputs": [
    {
     "data": {
      "text/plain": [
       "(TensorShape([784, 512]), TensorShape([512]))"
      ]
     },
     "execution_count": 10,
     "metadata": {},
     "output_type": "execute_result"
    }
   ],
   "source": [
    "layer_dense.kernel.shape, layer_dense.bias.shape"
   ]
  },
  {
   "cell_type": "code",
   "execution_count": 11,
   "metadata": {},
   "outputs": [
    {
     "data": {
      "text/plain": [
       "(TensorShape([784, 512]), TensorShape([512]))"
      ]
     },
     "execution_count": 11,
     "metadata": {},
     "output_type": "execute_result"
    }
   ],
   "source": [
    "# 创建layer的时候,其实内部数据并没有被舒适化, 而是等到调用build方法之后,这些权值和偏执参数才会初始化\n",
    "# 例如 layer_dense.build(input_shape =(None, 784)) ,调用这个方法之后权值就会初始化, 这个过程可以重复\n",
    "# 所以刚刚创建layer之后, 还没有进行build的情况下不能调用这个层的kernel和bias属性\n",
    "# 例如:\n",
    "net = tf.keras.layers.Dense(512)\n",
    "net.build(input_shape = (None,784))\n",
    "net.kernel.shape,net.bias.shape"
   ]
  },
  {
   "cell_type": "code",
   "execution_count": 12,
   "metadata": {},
   "outputs": [
    {
     "data": {
      "text/plain": [
       "(TensorShape([128, 512]), TensorShape([512]))"
      ]
     },
     "execution_count": 12,
     "metadata": {},
     "output_type": "execute_result"
    }
   ],
   "source": [
    "# 层可以重新build\n",
    "net.build(input_shape = (None,128))\n",
    "net.kernel.shape,net.bias.shape"
   ]
  },
  {
   "cell_type": "code",
   "execution_count": 16,
   "metadata": {},
   "outputs": [],
   "source": [
    "# 多层堆叠\n",
    "\n",
    "model = tf.keras.models.Sequential([\n",
    "    tf.keras.layers.Dense(512,activation = 'relu'),\n",
    "    tf.keras.layers.Dense(256,activation = 'relu'),\n",
    "    tf.keras.layers.Dense(10)\n",
    "])\n",
    "model.build(input_shape = (None,784))"
   ]
  },
  {
   "cell_type": "code",
   "execution_count": 17,
   "metadata": {},
   "outputs": [
    {
     "name": "stdout",
     "output_type": "stream",
     "text": [
      "Model: \"sequential_1\"\n",
      "_________________________________________________________________\n",
      "Layer (type)                 Output Shape              Param #   \n",
      "=================================================================\n",
      "dense_6 (Dense)              multiple                  401920    \n",
      "_________________________________________________________________\n",
      "dense_7 (Dense)              multiple                  131328    \n",
      "_________________________________________________________________\n",
      "dense_8 (Dense)              multiple                  2570      \n",
      "=================================================================\n",
      "Total params: 535,818\n",
      "Trainable params: 535,818\n",
      "Non-trainable params: 0\n",
      "_________________________________________________________________\n"
     ]
    }
   ],
   "source": [
    "model.summary()\n",
    "# 打印当前的网络结果以及汇总信息"
   ]
  },
  {
   "cell_type": "code",
   "execution_count": 18,
   "metadata": {},
   "outputs": [
    {
     "name": "stdout",
     "output_type": "stream",
     "text": [
      "dense_6/kernel:0 (784, 512)\n",
      "dense_6/bias:0 (512,)\n",
      "dense_7/kernel:0 (512, 256)\n",
      "dense_7/bias:0 (256,)\n",
      "dense_8/kernel:0 (256, 10)\n",
      "dense_8/bias:0 (10,)\n"
     ]
    }
   ],
   "source": [
    "for each_param in model.trainable_variables:\n",
    "    print(each_param.name,each_param.shape)\n",
    "    # 返回的是按需排列的 w1,b1,w2,b2,w3,b3..."
   ]
  },
  {
   "cell_type": "code",
   "execution_count": null,
   "metadata": {},
   "outputs": [],
   "source": []
  },
  {
   "cell_type": "code",
   "execution_count": null,
   "metadata": {},
   "outputs": [],
   "source": []
  },
  {
   "cell_type": "code",
   "execution_count": null,
   "metadata": {},
   "outputs": [],
   "source": []
  },
  {
   "cell_type": "code",
   "execution_count": null,
   "metadata": {},
   "outputs": [],
   "source": []
  },
  {
   "cell_type": "code",
   "execution_count": null,
   "metadata": {},
   "outputs": [],
   "source": []
  }
 ],
 "metadata": {
  "kernelspec": {
   "display_name": "Python 3",
   "language": "python",
   "name": "python3"
  },
  "language_info": {
   "codemirror_mode": {
    "name": "ipython",
    "version": 3
   },
   "file_extension": ".py",
   "mimetype": "text/x-python",
   "name": "python",
   "nbconvert_exporter": "python",
   "pygments_lexer": "ipython3",
   "version": "3.6.8"
  }
 },
 "nbformat": 4,
 "nbformat_minor": 2
}
