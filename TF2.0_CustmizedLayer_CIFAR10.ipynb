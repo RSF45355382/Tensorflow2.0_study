{
 "cells": [
  {
   "cell_type": "code",
   "execution_count": 50,
   "metadata": {},
   "outputs": [],
   "source": [
    "import tensorflow as tf \n",
    "from tensorflow.keras import datasets,layers,optimizers,Sequential,metrics\n",
    "from tensorflow import keras\n",
    "import os "
   ]
  },
  {
   "cell_type": "code",
   "execution_count": 63,
   "metadata": {},
   "outputs": [],
   "source": [
    "def preprocess(x,y):\n",
    "    x = tf.cast(x,dtype = tf.float32)/255. - 1. #归一化到[-1,1]区间内\n",
    "    y = tf.cast(y,dtype = tf.int32)\n",
    "    return x,y"
   ]
  },
  {
   "cell_type": "code",
   "execution_count": 70,
   "metadata": {},
   "outputs": [
    {
     "name": "stdout",
     "output_type": "stream",
     "text": [
      "(50000, 32, 32, 3) (50000, 10) (10000, 32, 32, 3) (10000, 10) 255\n"
     ]
    }
   ],
   "source": [
    "batchsize = 128\n",
    "(x,y),(x_val,y_val) = datasets.cifar10.load_data()\n",
    "y = tf.squeeze(y) # 缩减冗余的维度\n",
    "y_val=tf.squeeze(y_val)\n",
    "\n",
    "y = tf.one_hot(y,depth=10)\n",
    "y_val = tf.one_hot(y_val,depth=10)\n",
    "print(x.shape,y.shape,x_val.shape,y_val.shape, x.max())"
   ]
  },
  {
   "cell_type": "code",
   "execution_count": 71,
   "metadata": {},
   "outputs": [],
   "source": [
    "train_db = tf.data.Dataset.from_tensor_slices((x,y))\n",
    "train_db = train_db.map(preprocess).shuffle(10000).batch(batchsize) # 进行预处理\n",
    "\n",
    "test_db = tf.data.Dataset.from_tensor_slices((x_val,y_val))\n",
    "test_db = test_db.map(preprocess).batch(batchsize) # 进行预处理"
   ]
  },
  {
   "cell_type": "code",
   "execution_count": 72,
   "metadata": {},
   "outputs": [
    {
     "name": "stdout",
     "output_type": "stream",
     "text": [
      "(128, 32, 32, 3) (128, 10)\n"
     ]
    }
   ],
   "source": [
    "# 测试一个batch的大小\n",
    "sample = next(iter(train_db))\n",
    "print(sample[0].shape,sample[1].shape)"
   ]
  },
  {
   "cell_type": "code",
   "execution_count": 73,
   "metadata": {},
   "outputs": [],
   "source": [
    "# 自定义层\n",
    "class MyDense(layers.Layer):\n",
    "    # 自定义网络层, 代替现有的Layer的子类\n",
    "    def __init__(self,input_dim,output_dim):\n",
    "        super(MyDense,self).__init__()\n",
    "        self.kernel = self.add_variable('w',[input_dim,output_dim]) # Layer自有的添加元素的方法, 必须用这个方法\n",
    "#         self.bias = self.add_variable('b',[output_dim]) # 我们这里不适用bias\n",
    "        \n",
    "        \n",
    "    \n",
    "    def __call__(self,inputs,training = None):\n",
    "        x = inputs@self.kernel # 不加bias直接输出\n",
    "        return x"
   ]
  },
  {
   "cell_type": "code",
   "execution_count": 74,
   "metadata": {},
   "outputs": [],
   "source": [
    "# 自定义网络\n",
    "class MyNetwork(keras.Model):\n",
    "    def __init__(self):\n",
    "        super(MyNetwork,self).__init__()\n",
    "        self.fc1 = MyDense(32*32*3,512)  # 定义第一层函数\n",
    "        self.fc2 = MyDense(512,256)# 定义第二层函数\n",
    "        self.fc3 = MyDense(256,128)# 定义第三层函数\n",
    "        self.fc4 = MyDense(128,64)# 定义第四层函数\n",
    "        self.fc5 = MyDense(64,32)# 定义第五层函数\n",
    "        self.fc6 = MyDense(32,10)# 定义第五层函数\n",
    "    \n",
    "    def __call__(self,inputs,training = None):\n",
    "        x = tf.reshape(inputs,[-1,32*32*3])\n",
    "        x = self.fc1(x)\n",
    "        x = tf.nn.relu(x)\n",
    "        x = self.fc2(x)\n",
    "        x = tf.nn.relu(x)\n",
    "        x = self.fc3(x)\n",
    "        x = tf.nn.relu(x)\n",
    "        x = self.fc4(x)\n",
    "        x = tf.nn.relu(x)\n",
    "        x = self.fc5(x)\n",
    "        x = tf.nn.relu(x)\n",
    "        x = self.fc6(x)\n",
    "        return x"
   ]
  },
  {
   "cell_type": "code",
   "execution_count": 75,
   "metadata": {},
   "outputs": [],
   "source": [
    "model = MyNetwork()\n",
    "model.compile(optimizer = optimizers.Adam(learning_rate = 1e-4),\n",
    "             loss = tf.losses.CategoricalCrossentropy(from_logits = True),\n",
    "             metrics = ['accuracy'])"
   ]
  },
  {
   "cell_type": "code",
   "execution_count": 77,
   "metadata": {},
   "outputs": [
    {
     "name": "stdout",
     "output_type": "stream",
     "text": [
      "Epoch 1/30\n",
      "391/391 [==============================] - 4s 11ms/step - loss: 1.2997 - accuracy: 0.5403 - val_loss: 0.0000e+00 - val_accuracy: 0.0000e+00\n",
      "Epoch 2/30\n",
      "391/391 [==============================] - 4s 9ms/step - loss: 1.2810 - accuracy: 0.5495 - val_loss: 1.3983 - val_accuracy: 0.5052\n",
      "Epoch 3/30\n",
      "391/391 [==============================] - 4s 10ms/step - loss: 1.2582 - accuracy: 0.5556 - val_loss: 1.3722 - val_accuracy: 0.5127\n",
      "Epoch 4/30\n",
      "391/391 [==============================] - 4s 11ms/step - loss: 1.2448 - accuracy: 0.5630 - val_loss: 1.3906 - val_accuracy: 0.5074\n",
      "Epoch 5/30\n",
      "391/391 [==============================] - 4s 11ms/step - loss: 1.2306 - accuracy: 0.5646 - val_loss: 1.3627 - val_accuracy: 0.5185\n",
      "Epoch 6/30\n",
      "391/391 [==============================] - 4s 11ms/step - loss: 1.2089 - accuracy: 0.5738 - val_loss: 1.3959 - val_accuracy: 0.5016\n",
      "Epoch 7/30\n",
      "391/391 [==============================] - 4s 10ms/step - loss: 1.1952 - accuracy: 0.5789 - val_loss: 1.3711 - val_accuracy: 0.5149\n",
      "Epoch 8/30\n",
      "391/391 [==============================] - 4s 11ms/step - loss: 1.1773 - accuracy: 0.5842 - val_loss: 1.3854 - val_accuracy: 0.5196\n",
      "Epoch 9/30\n",
      "391/391 [==============================] - 4s 11ms/step - loss: 1.1664 - accuracy: 0.5894 - val_loss: 1.3767 - val_accuracy: 0.5143\n",
      "Epoch 10/30\n",
      "391/391 [==============================] - 4s 11ms/step - loss: 1.1488 - accuracy: 0.5938 - val_loss: 1.3695 - val_accuracy: 0.5205\n",
      "Epoch 11/30\n",
      "391/391 [==============================] - 4s 10ms/step - loss: 1.1339 - accuracy: 0.6022 - val_loss: 1.3847 - val_accuracy: 0.5123\n",
      "Epoch 12/30\n",
      "391/391 [==============================] - 4s 11ms/step - loss: 1.1135 - accuracy: 0.6064 - val_loss: 1.3486 - val_accuracy: 0.5280\n",
      "Epoch 13/30\n",
      "391/391 [==============================] - 4s 11ms/step - loss: 1.1048 - accuracy: 0.6101 - val_loss: 1.4062 - val_accuracy: 0.5142\n",
      "Epoch 14/30\n",
      "391/391 [==============================] - 4s 10ms/step - loss: 1.0920 - accuracy: 0.6152 - val_loss: 1.3505 - val_accuracy: 0.5298\n",
      "Epoch 15/30\n",
      "391/391 [==============================] - 4s 11ms/step - loss: 1.0757 - accuracy: 0.6208 - val_loss: 1.3637 - val_accuracy: 0.5286\n",
      "Epoch 16/30\n",
      "391/391 [==============================] - 4s 10ms/step - loss: 1.0559 - accuracy: 0.6288 - val_loss: 1.4510 - val_accuracy: 0.5106\n",
      "Epoch 17/30\n",
      "391/391 [==============================] - 4s 11ms/step - loss: 1.0469 - accuracy: 0.6305 - val_loss: 1.3666 - val_accuracy: 0.5306\n",
      "Epoch 18/30\n",
      "391/391 [==============================] - 4s 11ms/step - loss: 1.0312 - accuracy: 0.6365 - val_loss: 1.3663 - val_accuracy: 0.5279\n",
      "Epoch 19/30\n",
      "391/391 [==============================] - 4s 11ms/step - loss: 1.0137 - accuracy: 0.6433 - val_loss: 1.3563 - val_accuracy: 0.5370\n",
      "Epoch 20/30\n",
      "391/391 [==============================] - 4s 11ms/step - loss: 1.0019 - accuracy: 0.6458 - val_loss: 1.3902 - val_accuracy: 0.5289\n",
      "Epoch 21/30\n",
      "391/391 [==============================] - 4s 11ms/step - loss: 0.9892 - accuracy: 0.6525 - val_loss: 1.3990 - val_accuracy: 0.5320\n",
      "Epoch 22/30\n",
      "391/391 [==============================] - 4s 10ms/step - loss: 0.9697 - accuracy: 0.6574 - val_loss: 1.4162 - val_accuracy: 0.5243\n",
      "Epoch 23/30\n",
      "391/391 [==============================] - 4s 10ms/step - loss: 0.9599 - accuracy: 0.6621 - val_loss: 1.4083 - val_accuracy: 0.5200\n",
      "Epoch 24/30\n",
      "391/391 [==============================] - 4s 10ms/step - loss: 0.9466 - accuracy: 0.6666 - val_loss: 1.4024 - val_accuracy: 0.5360\n",
      "Epoch 25/30\n",
      "391/391 [==============================] - 4s 10ms/step - loss: 0.9362 - accuracy: 0.6721 - val_loss: 1.4306 - val_accuracy: 0.5224\n",
      "Epoch 26/30\n",
      "391/391 [==============================] - 4s 11ms/step - loss: 0.9217 - accuracy: 0.6746 - val_loss: 1.3956 - val_accuracy: 0.5396\n",
      "Epoch 27/30\n",
      "391/391 [==============================] - 4s 11ms/step - loss: 0.9033 - accuracy: 0.6819 - val_loss: 1.4463 - val_accuracy: 0.5258\n",
      "Epoch 28/30\n",
      "391/391 [==============================] - 4s 11ms/step - loss: 0.8932 - accuracy: 0.6864 - val_loss: 1.4535 - val_accuracy: 0.5271\n",
      "Epoch 29/30\n",
      "391/391 [==============================] - 4s 11ms/step - loss: 0.8818 - accuracy: 0.6889 - val_loss: 1.4255 - val_accuracy: 0.5313\n",
      "Epoch 30/30\n",
      "391/391 [==============================] - 4s 11ms/step - loss: 0.8650 - accuracy: 0.6956 - val_loss: 1.4510 - val_accuracy: 0.5288\n"
     ]
    },
    {
     "data": {
      "text/plain": [
       "<tensorflow.python.keras.callbacks.History at 0x20aa7230ac8>"
      ]
     },
     "execution_count": 77,
     "metadata": {},
     "output_type": "execute_result"
    }
   ],
   "source": [
    "model.fit(train_db,epochs=30,validation_data=test_db,validation_freq=1) # validation_freq=代表没一个epoch训练完成后进行一次验证集测试"
   ]
  },
  {
   "cell_type": "code",
   "execution_count": 78,
   "metadata": {},
   "outputs": [
    {
     "name": "stdout",
     "output_type": "stream",
     "text": [
      "79/79 [==============================] - 0s 6ms/step - loss: 1.4510 - accuracy: 0.5288\n"
     ]
    }
   ],
   "source": [
    "model.evaluate(test_db)\n",
    "model.save_weights('./ckpt/2019-11-13.ckpt')\n",
    "del model\n",
    "# 保存模型的参数"
   ]
  },
  {
   "cell_type": "code",
   "execution_count": 79,
   "metadata": {},
   "outputs": [
    {
     "name": "stdout",
     "output_type": "stream",
     "text": [
      "79/79 [==============================] - 0s 6ms/step - loss: 1.4510 - accuracy: 0.5288\n"
     ]
    },
    {
     "data": {
      "text/plain": [
       "[1.4510230761540086, 0.5288]"
      ]
     },
     "execution_count": 79,
     "metadata": {},
     "output_type": "execute_result"
    }
   ],
   "source": [
    "model_new = MyNetwork()\n",
    "model_new.load_weights('./ckpt/2019-11-13.ckpt')\n",
    "# 加载模型参数后如果项进行测试, 还需要先对模型进行编译compile,设定优化其,衡量指标, 损失函数等信息\n",
    "model_new.compile(optimizer = optimizers.Adam(learning_rate = 1e-4),\n",
    "                 loss = tf.losses.CategoricalCrossentropy(from_logits = True),\n",
    "                 metrics = ['accuracy'])\n",
    "model_new.evaluate(test_db)\n",
    "# 加载模型参数, 未经训练的模型直接使用之前的参数直接获得了0.484的准确率"
   ]
  },
  {
   "cell_type": "code",
   "execution_count": null,
   "metadata": {},
   "outputs": [],
   "source": []
  },
  {
   "cell_type": "code",
   "execution_count": null,
   "metadata": {},
   "outputs": [],
   "source": []
  },
  {
   "cell_type": "code",
   "execution_count": null,
   "metadata": {},
   "outputs": [],
   "source": []
  }
 ],
 "metadata": {
  "kernelspec": {
   "display_name": "Python 3",
   "language": "python",
   "name": "python3"
  },
  "language_info": {
   "codemirror_mode": {
    "name": "ipython",
    "version": 3
   },
   "file_extension": ".py",
   "mimetype": "text/x-python",
   "name": "python",
   "nbconvert_exporter": "python",
   "pygments_lexer": "ipython3",
   "version": "3.6.8"
  }
 },
 "nbformat": 4,
 "nbformat_minor": 2
}
