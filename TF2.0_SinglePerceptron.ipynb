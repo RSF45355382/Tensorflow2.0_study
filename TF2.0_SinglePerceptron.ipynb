{
 "cells": [
  {
   "cell_type": "code",
   "execution_count": 1,
   "metadata": {},
   "outputs": [],
   "source": [
    "import tensorflow as tf "
   ]
  },
  {
   "cell_type": "code",
   "execution_count": 2,
   "metadata": {},
   "outputs": [],
   "source": [
    "x = tf.random.normal([1,3])\n",
    "w = tf.ones([3,1])\n",
    "b = tf.ones([1])\n",
    "y = tf.constant([1]) "
   ]
  },
  {
   "cell_type": "code",
   "execution_count": 3,
   "metadata": {},
   "outputs": [],
   "source": [
    "with tf.GradientTape() as tape:\n",
    "    tape.watch([w,b])\n",
    "    logits = tf.sigmoid(x@w+b)\n",
    "    loss = tf.reduce_mean(tf.losses.MSE(y,logits))\n"
   ]
  },
  {
   "cell_type": "code",
   "execution_count": 5,
   "metadata": {},
   "outputs": [
    {
     "name": "stdout",
     "output_type": "stream",
     "text": [
      "[<tf.Tensor: id=58, shape=(3, 1), dtype=float32, numpy=\n",
      "array([[0.08261857],\n",
      "       [0.10888706],\n",
      "       [0.20809099]], dtype=float32)>, <tf.Tensor: id=57, shape=(1,), dtype=float32, numpy=array([-0.287175], dtype=float32)>]\n"
     ]
    }
   ],
   "source": [
    "grads = tape.gradient(loss,[w,b])\n",
    "print(grads)"
   ]
  },
  {
   "cell_type": "code",
   "execution_count": null,
   "metadata": {},
   "outputs": [],
   "source": []
  }
 ],
 "metadata": {
  "kernelspec": {
   "display_name": "Python 3",
   "language": "python",
   "name": "python3"
  },
  "language_info": {
   "codemirror_mode": {
    "name": "ipython",
    "version": 3
   },
   "file_extension": ".py",
   "mimetype": "text/x-python",
   "name": "python",
   "nbconvert_exporter": "python",
   "pygments_lexer": "ipython3",
   "version": "3.6.8"
  }
 },
 "nbformat": 4,
 "nbformat_minor": 2
}
