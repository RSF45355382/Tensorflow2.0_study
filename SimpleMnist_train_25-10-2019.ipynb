{
 "cells": [
  {
   "cell_type": "code",
   "execution_count": 83,
   "metadata": {},
   "outputs": [
    {
     "name": "stdout",
     "output_type": "stream",
     "text": [
      "(60000, 28, 28) (60000,)\n"
     ]
    }
   ],
   "source": [
    "import tensorflow  as tf \n",
    "import matplotlib.pyplot as plt \n",
    "import os \n",
    "os.environ['TF_CPP_MIN_LOG_LEVEL'] = '2'\n",
    "\n",
    "(train_data,train_labels),(test_data, test_labels) = tf.keras.datasets.mnist.load_data()\n",
    "print(train_data.shape,train_labels.shape)\n",
    "train_data = train_data/255."
   ]
  },
  {
   "cell_type": "code",
   "execution_count": 84,
   "metadata": {},
   "outputs": [],
   "source": [
    "trainDB = tf.data.Dataset.from_tensor_slices((train_data,train_labels)).batch(200)\n",
    "# 转化为Dataset之后, 方便调用.batch()来获取数据"
   ]
  },
  {
   "cell_type": "code",
   "execution_count": 85,
   "metadata": {},
   "outputs": [],
   "source": [
    "# for step,(x,y) in enumerate(trainDB):\n",
    "#     print(step,x.shape,y)"
   ]
  },
  {
   "cell_type": "code",
   "execution_count": 86,
   "metadata": {},
   "outputs": [],
   "source": [
    "# 定义好模型\n",
    "model = tf.keras.Sequential([\n",
    "    tf.keras.layers.Dense(512,activation = 'relu'),\n",
    "    tf.keras.layers.Dense(256,activation = 'relu'),\n",
    "    tf.keras.layers.Dense(10)\n",
    "])\n",
    "# 定义优化器\n",
    "optimizer = tf.keras.optimizers.SGD(learning_rate=0.001)"
   ]
  },
  {
   "cell_type": "code",
   "execution_count": 87,
   "metadata": {},
   "outputs": [],
   "source": [
    "def train_epoch(epoch):\n",
    "    for step,(x,y) in enumerate(trainDB):\n",
    "        with tf.GradientTape() as tape:\n",
    "            #[b,28,28]转化为[b,784], 将图像展成一维数据\n",
    "            x = tf.reshape(x,(-1,28*28))\n",
    "            y = tf.one_hot(y,depth=10)\n",
    "            # 计算模型输出值,可以直接带入模型就获得输出值\n",
    "            out = model(x)\n",
    "            # 计算损失函数,这里使用的mse损失函数\n",
    "            loss = tf.reduce_sum(tf.square(y-out))/x.shape[0]\n",
    "\n",
    "        # 计算神经网络偏导数值,这里使用的是自动求导工具\n",
    "        # 这里trainable_variables中所有的参数数顺序排列的\n",
    "        # 那么求导得到的倒数的排列顺序也和trainable_variables中的该参数的排列顺序是一样的\n",
    "        # 注意这里要同tape.\n",
    "        grads = tape.gradient(loss,model.trainable_variables)\n",
    "\n",
    "        # 更新权值\n",
    "        # 因为求导得到的倒数的排列顺序也和trainable_variables中的该参数的排列顺序是一样的\n",
    "        # 所以可以直接使用optimizer.apply_gradients(zip(grads, model.trainable_variables))\n",
    "        # 倒数会对应位置相加减\n",
    "        optimizer.apply_gradients(zip(grads,model.trainable_variables))\n",
    "        \n",
    "        if step%100 == 0:\n",
    "            print(epoch,step,'loss: ',loss.numpy())"
   ]
  },
  {
   "cell_type": "code",
   "execution_count": 88,
   "metadata": {},
   "outputs": [],
   "source": [
    "def train():\n",
    "    for epoch in range(30):\n",
    "        train_epoch(epoch)"
   ]
  },
  {
   "cell_type": "code",
   "execution_count": 89,
   "metadata": {
    "scrolled": true
   },
   "outputs": [
    {
     "name": "stdout",
     "output_type": "stream",
     "text": [
      "WARNING:tensorflow:Layer sequential_10 is casting an input tensor from dtype float64 to the layer's dtype of float32, which is new behavior in TensorFlow 2.  The layer has dtype float32 because it's dtype defaults to floatx.\n",
      "\n",
      "If you intended to run this layer in float32, you can safely ignore this warning. If in doubt, this warning is likely only an issue if you are porting a TensorFlow 1.X model to TensorFlow 2.\n",
      "\n",
      "To change all layers to have dtype float64 by default, call `tf.keras.backend.set_floatx('float64')`. To change just this layer, pass dtype='float64' to the layer constructor. If you are the author of this layer, you can disable autocasting by passing autocast=False to the base Layer constructor.\n",
      "\n",
      "0 0 loss:  1.5810848\n",
      "0 100 loss:  0.9397983\n",
      "0 200 loss:  0.7346756\n",
      "1 0 loss:  0.6780641\n",
      "1 100 loss:  0.67678314\n",
      "1 200 loss:  0.5579884\n",
      "2 0 loss:  0.56817776\n",
      "2 100 loss:  0.5887906\n",
      "2 200 loss:  0.48938733\n",
      "3 0 loss:  0.5122101\n",
      "3 100 loss:  0.5381668\n",
      "3 200 loss:  0.44938242\n",
      "4 0 loss:  0.47488758\n",
      "4 100 loss:  0.50282824\n",
      "4 200 loss:  0.42099938\n",
      "5 0 loss:  0.44717765\n",
      "5 100 loss:  0.4758052\n",
      "5 200 loss:  0.3989679\n",
      "6 0 loss:  0.42489278\n",
      "6 100 loss:  0.45403892\n",
      "6 200 loss:  0.38112587\n",
      "7 0 loss:  0.40619123\n",
      "7 100 loss:  0.43573806\n",
      "7 200 loss:  0.36615503\n",
      "8 0 loss:  0.39021656\n",
      "8 100 loss:  0.42020094\n",
      "8 200 loss:  0.35346162\n",
      "9 0 loss:  0.3762921\n",
      "9 100 loss:  0.40681008\n",
      "9 200 loss:  0.34235093\n",
      "10 0 loss:  0.3640127\n",
      "10 100 loss:  0.3950526\n",
      "10 200 loss:  0.3323896\n",
      "11 0 loss:  0.35306373\n",
      "11 100 loss:  0.38459146\n",
      "11 200 loss:  0.3235392\n",
      "12 0 loss:  0.34326553\n",
      "12 100 loss:  0.37504128\n",
      "12 200 loss:  0.3155247\n",
      "13 0 loss:  0.3343\n",
      "13 100 loss:  0.3662731\n",
      "13 200 loss:  0.3081833\n",
      "14 0 loss:  0.3259924\n",
      "14 100 loss:  0.35824135\n",
      "14 200 loss:  0.30144632\n",
      "15 0 loss:  0.31842053\n",
      "15 100 loss:  0.35093364\n",
      "15 200 loss:  0.29524875\n",
      "16 0 loss:  0.3114204\n",
      "16 100 loss:  0.34423432\n",
      "16 200 loss:  0.28950992\n",
      "17 0 loss:  0.3049124\n",
      "17 100 loss:  0.33801287\n",
      "17 200 loss:  0.28425255\n",
      "18 0 loss:  0.2988289\n",
      "18 100 loss:  0.33223093\n",
      "18 200 loss:  0.27935869\n",
      "19 0 loss:  0.29318887\n",
      "19 100 loss:  0.32680953\n",
      "19 200 loss:  0.27478704\n",
      "20 0 loss:  0.2878839\n",
      "20 100 loss:  0.32170525\n",
      "20 200 loss:  0.2704525\n",
      "21 0 loss:  0.2829323\n",
      "21 100 loss:  0.3169163\n",
      "21 200 loss:  0.266405\n",
      "22 0 loss:  0.27829322\n",
      "22 100 loss:  0.31239936\n",
      "22 200 loss:  0.26259854\n",
      "23 0 loss:  0.27391553\n",
      "23 100 loss:  0.30810788\n",
      "23 200 loss:  0.25894967\n",
      "24 0 loss:  0.26980355\n",
      "24 100 loss:  0.3040529\n",
      "24 200 loss:  0.25551543\n",
      "25 0 loss:  0.2658612\n",
      "25 100 loss:  0.30022886\n",
      "25 200 loss:  0.2522668\n",
      "26 0 loss:  0.26214182\n",
      "26 100 loss:  0.296585\n",
      "26 200 loss:  0.24915096\n",
      "27 0 loss:  0.25862867\n",
      "27 100 loss:  0.29312518\n",
      "27 200 loss:  0.2461473\n",
      "28 0 loss:  0.25530598\n",
      "28 100 loss:  0.2898678\n",
      "28 200 loss:  0.2432518\n",
      "29 0 loss:  0.25211728\n",
      "29 100 loss:  0.28679782\n",
      "29 200 loss:  0.24050145\n"
     ]
    }
   ],
   "source": [
    "train()"
   ]
  },
  {
   "cell_type": "code",
   "execution_count": 98,
   "metadata": {},
   "outputs": [
    {
     "name": "stdout",
     "output_type": "stream",
     "text": [
      "Predicted label:  9\n",
      "Predicted label:  5\n",
      "Predicted label:  1\n",
      "Predicted label:  8\n",
      "Predicted label:  3\n",
      "Predicted label:  5\n",
      "Predicted label:  6\n",
      "Predicted label:  8\n"
     ]
    },
    {
     "data": {
      "image/png": "[encoded data removed]",
      "text/plain": [
       "<Figure size 432x288 with 1 Axes>"
      ]
     },
     "metadata": {
      "needs_background": "light"
     },
     "output_type": "display_data"
    },
    {
     "data": {
      "image/png": "[encoded data removed]",
      "text/plain": [
       "<Figure size 432x288 with 1 Axes>"
      ]
     },
     "metadata": {
      "needs_background": "light"
     },
     "output_type": "display_data"
    },
    {
     "data": {
      "image/png": "[encoded data removed]",
      "text/plain": [
       "<Figure size 432x288 with 1 Axes>"
      ]
     },
     "metadata": {
      "needs_background": "light"
     },
     "output_type": "display_data"
    },
    {
     "data": {
      "image/png": "[encoded data removed]",
      "text/plain": [
       "<Figure size 432x288 with 1 Axes>"
      ]
     },
     "metadata": {
      "needs_background": "light"
     },
     "output_type": "display_data"
    },
    {
     "data": {
      "image/png": "[encoded data removed]",
      "text/plain": [
       "<Figure size 432x288 with 1 Axes>"
      ]
     },
     "metadata": {
      "needs_background": "light"
     },
     "output_type": "display_data"
    },
    {
     "data": {
      "image/png": "[encoded data removed]",
      "text/plain": [
       "<Figure size 432x288 with 1 Axes>"
      ]
     },
     "metadata": {
      "needs_background": "light"
     },
     "output_type": "display_data"
    },
    {
     "data": {
      "image/png": "[encoded data removed]",
      "text/plain": [
       "<Figure size 432x288 with 1 Axes>"
      ]
     },
     "metadata": {
      "needs_background": "light"
     },
     "output_type": "display_data"
    },
    {
     "data": {
      "image/png": "[encoded data removed]",
      "text/plain": [
       "<Figure size 432x288 with 1 Axes>"
      ]
     },
     "metadata": {
      "needs_background": "light"
     },
     "output_type": "display_data"
    }
   ],
   "source": [
    "import numpy as np\n",
    "for each_pic in train_data[-8:]:\n",
    "    values = np.array(each_pic)\n",
    "    plt.figure()\n",
    "    flatten_img = tf.reshape([values],(-1,28*28))\n",
    "    pred_label = model(flatten_img).numpy().argmax()\n",
    "    plt.imshow(values)\n",
    "    print('Predicted label: ', pred_label)"
   ]
  },
  {
   "cell_type": "code",
   "execution_count": null,
   "metadata": {},
   "outputs": [],
   "source": []
  }
 ],
 "metadata": {
  "kernelspec": {
   "display_name": "Python 3",
   "language": "python",
   "name": "python3"
  },
  "language_info": {
   "codemirror_mode": {
    "name": "ipython",
    "version": 3
   },
   "file_extension": ".py",
   "mimetype": "text/x-python",
   "name": "python",
   "nbconvert_exporter": "python",
   "pygments_lexer": "ipython3",
   "version": "3.6.8"
  }
 },
 "nbformat": 4,
 "nbformat_minor": 2
}
