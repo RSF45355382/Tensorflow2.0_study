{
 "cells": [
  {
   "cell_type": "code",
   "execution_count": 1,
   "metadata": {},
   "outputs": [],
   "source": [
    "import tensorflow as tf \n",
    "import tensorflow.keras as keras"
   ]
  },
  {
   "cell_type": "code",
   "execution_count": 5,
   "metadata": {},
   "outputs": [],
   "source": [
    "# 用过keras.Layer父类,我们自定义一个层(现行传播层)\n",
    "class MyDenseLayer(keras.layers.Layer):\n",
    "    def __init__(self,input_dim,output_dim):\n",
    "        super(MyDenseLayer,self).__init__()#执行父类的init方法进行初始化\n",
    "        \n",
    "        self.kernel = self.add_variable('w',[input_dim,output_dim])# 这里的'w'没什么用,随便写一个就行 ,但是最好起一个有意义的\n",
    "        # [input_dim,output_dim]表示创建的Tensor的维度大小\n",
    "        self.bias = self.add_variable('b',[output_dim])\n",
    "        \n",
    "        # Layer类中不可以直接用tf.Variable或者tf.constant这种方法创建变量,因为Layer不仅需要运算, 还需要进行逻辑运算!!!!!!\n",
    "        # 所以只能通过add_vatiable进行添加变量, 这样定义的变量会在layer作为底层操作单元工作的时候,可以将这些变量统一交给上层模型进行管理\n",
    "        \n",
    "        \n",
    "    def call(self,inputs,training = None)# training参数表示当前的函数时进行训练还是在预测或者评估阶段, 因为有的层在训练和评估时动作是不一样的\n",
    "        output = inputs@self.kernel + self.bias\n",
    "        return out"
   ]
  },
  {
   "cell_type": "code",
   "execution_count": null,
   "metadata": {},
   "outputs": [],
   "source": []
  },
  {
   "cell_type": "code",
   "execution_count": null,
   "metadata": {},
   "outputs": [],
   "source": [
    "# 自定义一个模型(网络)"
   ]
  },
  {
   "cell_type": "code",
   "execution_count": 7,
   "metadata": {},
   "outputs": [],
   "source": [
    "# 在自定义的模型中可以根据自己的需求进行操作,例如在Sequencial模型中不能实现的加或减的操作\n",
    "class MyModel(keras.Model): # 需要继承于keras.Model, 这样才能使用那些快捷接口\n",
    "    def __init__(self):\n",
    "        super(MyModel,self).__init__()\n",
    "        self.fc1 = MyDenseLayer(28*28,256)\n",
    "        self.fc2 = MyDenseLayer(256,128)\n",
    "        self.fc3 = MyDenseLayer(128,64)\n",
    "        self.fc4 = MyDenseLayer(64,32)\n",
    "        self.fc5 = MyDenseLayer(32,10)\n",
    "    \n",
    "    def call(self,inputs,training = None):\n",
    "        # 自定义传播函数(就是直接调用类的函数)\n",
    "        x = self.fc1(inputs)\n",
    "        x = tf.nn.relu(x)\n",
    "        x = self.fc2(x)\n",
    "        x = tf.nn.relu(x)\n",
    "        x = self.fc2(x)\n",
    "        x = tf.nn.relu(x)\n",
    "        x = self.fc3(x)\n",
    "        x = tf.nn.relu(x)\n",
    "        x = self.fc4(x)\n",
    "        x = tf.nn.relu(x)\n",
    "        x = self.fc5(x)\n",
    "        return x"
   ]
  },
  {
   "cell_type": "code",
   "execution_count": null,
   "metadata": {},
   "outputs": [],
   "source": []
  },
  {
   "cell_type": "code",
   "execution_count": null,
   "metadata": {},
   "outputs": [],
   "source": []
  }
 ],
 "metadata": {
  "kernelspec": {
   "display_name": "Python 3",
   "language": "python",
   "name": "python3"
  },
  "language_info": {
   "codemirror_mode": {
    "name": "ipython",
    "version": 3
   },
   "file_extension": ".py",
   "mimetype": "text/x-python",
   "name": "python",
   "nbconvert_exporter": "python",
   "pygments_lexer": "ipython3",
   "version": "3.6.8"
  }
 },
 "nbformat": 4,
 "nbformat_minor": 2
}
