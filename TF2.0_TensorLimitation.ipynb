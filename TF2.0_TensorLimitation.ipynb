{
 "cells": [
  {
   "cell_type": "code",
   "execution_count": 1,
   "metadata": {},
   "outputs": [],
   "source": [
    "import tensorflow as tf "
   ]
  },
  {
   "cell_type": "markdown",
   "metadata": {},
   "source": [
    "# 张量限幅操作\n",
    "## 避免张量的值过大或者过小\n",
    "clip_by_value操作(例如relu操作)\n",
    "\n",
    "clip_by_norm操作\n",
    "\n",
    "gradient clip操作"
   ]
  },
  {
   "cell_type": "code",
   "execution_count": 9,
   "metadata": {},
   "outputs": [
    {
     "name": "stdout",
     "output_type": "stream",
     "text": [
      "tf.Tensor(\n",
      "[[ 1.5634894  0.7554021]\n",
      " [-1.014851   2.1200325]\n",
      " [-0.7073716  0.9214353]], shape=(3, 2), dtype=float32)\n"
     ]
    },
    {
     "data": {
      "text/plain": [
       "<tf.Tensor: id=49, shape=(3, 2), dtype=float32, numpy=\n",
       "array([[1.5634894, 0.7554021],\n",
       "       [0.       , 2.1200325],\n",
       "       [0.       , 0.9214353]], dtype=float32)>"
      ]
     },
     "execution_count": 9,
     "metadata": {},
     "output_type": "execute_result"
    }
   ],
   "source": [
    "# 数据剪裁操作\n",
    "a = tf.random.normal([3,2])\n",
    "print(a)\n",
    "tf.maximum(a,0)\n",
    "# 这里其实是一个relu函数"
   ]
  },
  {
   "cell_type": "code",
   "execution_count": 10,
   "metadata": {},
   "outputs": [
    {
     "data": {
      "text/plain": [
       "<tf.Tensor: id=50, shape=(3, 2), dtype=float32, numpy=\n",
       "array([[1.5634894, 0.7554021],\n",
       "       [0.       , 2.1200325],\n",
       "       [0.       , 0.9214353]], dtype=float32)>"
      ]
     },
     "execution_count": 10,
     "metadata": {},
     "output_type": "execute_result"
    }
   ],
   "source": [
    "tf.nn.relu(a)"
   ]
  },
  {
   "cell_type": "code",
   "execution_count": 11,
   "metadata": {},
   "outputs": [
    {
     "data": {
      "text/plain": [
       "<tf.Tensor: id=52, shape=(3, 2), dtype=float32, numpy=\n",
       "array([[ 0.       ,  0.       ],\n",
       "       [-1.014851 ,  0.       ],\n",
       "       [-0.7073716,  0.       ]], dtype=float32)>"
      ]
     },
     "execution_count": 11,
     "metadata": {},
     "output_type": "execute_result"
    }
   ],
   "source": [
    "tf.minimum(0,a)"
   ]
  },
  {
   "cell_type": "code",
   "execution_count": 12,
   "metadata": {},
   "outputs": [
    {
     "data": {
      "text/plain": [
       "<tf.Tensor: id=56, shape=(3, 2), dtype=float32, numpy=\n",
       "array([[ 0.5,  0.5],\n",
       "       [-0.5,  0.5],\n",
       "       [-0.5,  0.5]], dtype=float32)>"
      ]
     },
     "execution_count": 12,
     "metadata": {},
     "output_type": "execute_result"
    }
   ],
   "source": [
    "tf.clip_by_value(a,-0.5,0.5)\n",
    "# 将数据限制在-0.5到0.5之间,超限的用-0.5或者0.5代替"
   ]
  },
  {
   "cell_type": "code",
   "execution_count": 13,
   "metadata": {},
   "outputs": [
    {
     "data": {
      "text/plain": [
       "<tf.Tensor: id=64, shape=(9,), dtype=int32, numpy=array([3, 3, 3, 3, 4, 5, 6, 7, 7])>"
      ]
     },
     "execution_count": 13,
     "metadata": {},
     "output_type": "execute_result"
    }
   ],
   "source": [
    "tf.clip_by_value(tf.range(9),3,7)"
   ]
  },
  {
   "cell_type": "code",
   "execution_count": null,
   "metadata": {},
   "outputs": [],
   "source": []
  },
  {
   "cell_type": "code",
   "execution_count": 17,
   "metadata": {},
   "outputs": [
    {
     "name": "stdout",
     "output_type": "stream",
     "text": [
      "tf.Tensor(\n",
      "[[ 9.411928   7.9117823]\n",
      " [10.062585   9.734371 ]], shape=(2, 2), dtype=float32)\n"
     ]
    }
   ],
   "source": [
    "# 范数缩放限幅, 有利于在矩阵各个方向上进行相同幅度的限幅, 避免造成矩阵的方向变化(梯度方向的变化)\n",
    "b = tf.random.normal([2,2],mean=10)\n",
    "print(b)\n",
    "\n"
   ]
  },
  {
   "cell_type": "code",
   "execution_count": 18,
   "metadata": {},
   "outputs": [
    {
     "data": {
      "text/plain": [
       "<tf.Tensor: id=103, shape=(), dtype=float32, numpy=18.63315>"
      ]
     },
     "execution_count": 18,
     "metadata": {},
     "output_type": "execute_result"
    }
   ],
   "source": [
    "tf.norm(b)"
   ]
  },
  {
   "cell_type": "code",
   "execution_count": 19,
   "metadata": {},
   "outputs": [
    {
     "data": {
      "text/plain": [
       "<tf.Tensor: id=120, shape=(2, 2), dtype=float32, numpy=\n",
       "array([[7.576761, 6.369118],\n",
       "       [8.10055 , 7.836333]], dtype=float32)>"
      ]
     },
     "execution_count": 19,
     "metadata": {},
     "output_type": "execute_result"
    }
   ],
   "source": [
    "tf.clip_by_norm(b,15)\n",
    "# 15代表范数缩放的系数"
   ]
  },
  {
   "cell_type": "code",
   "execution_count": 21,
   "metadata": {},
   "outputs": [
    {
     "data": {
      "text/plain": [
       "<tf.Tensor: id=164, shape=(), dtype=float32, numpy=14.999999>"
      ]
     },
     "execution_count": 21,
     "metadata": {},
     "output_type": "execute_result"
    }
   ],
   "source": [
    "tf.norm(tf.clip_by_norm(b,15))\n",
    "# 哪找范数缩放后的矩阵的范数就是之前设置的缩放系数"
   ]
  },
  {
   "cell_type": "code",
   "execution_count": null,
   "metadata": {},
   "outputs": [],
   "source": []
  },
  {
   "cell_type": "markdown",
   "metadata": {},
   "source": [
    "#### 梯度裁剪,避免梯度爆炸和梯度消失/弥散\n",
    "使用clip_by_global_norm, 范数系数一般设置10-30的数字\n",
    "\n",
    "保证要求梯度个各个参数的缩放程度是相同的, 保证梯度下降的程度相同(避免, 一个参数缩放了1倍, 另一个参数缩放了20倍这种情况)\n",
    "\n",
    "### 在训练过程中可以观察梯度的范数, 如果范数在10到20之间, 比较正常, 如果太大或者太小都对训练不利, 容易导致梯度爆炸或者梯度弥散, 这种情况下就需要对梯度的全局范数裁剪(保证等比例裁剪)"
   ]
  },
  {
   "cell_type": "code",
   "execution_count": null,
   "metadata": {},
   "outputs": [],
   "source": []
  },
  {
   "cell_type": "code",
   "execution_count": null,
   "metadata": {},
   "outputs": [],
   "source": []
  },
  {
   "cell_type": "code",
   "execution_count": null,
   "metadata": {},
   "outputs": [],
   "source": []
  },
  {
   "cell_type": "code",
   "execution_count": null,
   "metadata": {},
   "outputs": [],
   "source": []
  },
  {
   "cell_type": "code",
   "execution_count": null,
   "metadata": {},
   "outputs": [],
   "source": []
  },
  {
   "cell_type": "code",
   "execution_count": null,
   "metadata": {},
   "outputs": [],
   "source": []
  }
 ],
 "metadata": {
  "kernelspec": {
   "display_name": "Python 3",
   "language": "python",
   "name": "python3"
  },
  "language_info": {
   "codemirror_mode": {
    "name": "ipython",
    "version": 3
   },
   "file_extension": ".py",
   "mimetype": "text/x-python",
   "name": "python",
   "nbconvert_exporter": "python",
   "pygments_lexer": "ipython3",
   "version": "3.6.8"
  }
 },
 "nbformat": 4,
 "nbformat_minor": 2
}
