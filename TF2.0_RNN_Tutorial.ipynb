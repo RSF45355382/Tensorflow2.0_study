{
 "cells": [
  {
   "cell_type": "code",
   "execution_count": 2,
   "metadata": {},
   "outputs": [],
   "source": [
    "import tensorflow as tf \n",
    "import tensorflow.keras as keras"
   ]
  },
  {
   "cell_type": "code",
   "execution_count": 3,
   "metadata": {},
   "outputs": [],
   "source": [
    "cell = keras.layers.SimpleRNNCell(3)  # 这里的3代表的这个单元的输出的在维度上是3(前向传递3次)\n",
    "cell.build(input_shape = (None,4)) # 4是输入的的feature宽度"
   ]
  },
  {
   "cell_type": "code",
   "execution_count": 5,
   "metadata": {},
   "outputs": [
    {
     "data": {
      "text/plain": [
       "[<tf.Variable 'kernel:0' shape=(4, 3) dtype=float32, numpy=\n",
       " array([[-0.35893172,  0.34640408, -0.7190231 ],\n",
       "        [-0.38354695,  0.16251683,  0.65487933],\n",
       "        [ 0.36017287, -0.6169188 , -0.762123  ],\n",
       "        [ 0.32048357, -0.4431951 ,  0.33596396]], dtype=float32)>,\n",
       " <tf.Variable 'recurrent_kernel:0' shape=(3, 3) dtype=float32, numpy=\n",
       " array([[-0.9002893 ,  0.42969328,  0.06959017],\n",
       "        [ 0.37536383,  0.84730864, -0.37572592],\n",
       "        [-0.22041129, -0.3121404 , -0.9241143 ]], dtype=float32)>,\n",
       " <tf.Variable 'bias:0' shape=(3,) dtype=float32, numpy=array([0., 0., 0.], dtype=float32)>]"
      ]
     },
     "execution_count": 5,
     "metadata": {},
     "output_type": "execute_result"
    }
   ],
   "source": [
    "cell.trainable_variables\n",
    "# kernel:0 是Wxh, 是与输入进行计算的矩阵\n",
    "# recurrent_kernel:0 是Whh  是与原状态进行计算的矩阵"
   ]
  },
  {
   "cell_type": "code",
   "execution_count": null,
   "metadata": {},
   "outputs": [],
   "source": []
  },
  {
   "cell_type": "code",
   "execution_count": 13,
   "metadata": {},
   "outputs": [],
   "source": [
    "# 模拟一个简单的RNN\n",
    "simp_cell = keras.layers.SimpleRNNCell(64)\n",
    "simp_cell.build(input_shape = (None,100))\n",
    "input_data = tf.random.normal([8,80,100])\n",
    "xt0 = input_data[:,0,:]\n",
    "\n",
    "out,xt1 = simp_cell(xt0,[tf.zeros([8,64])])"
   ]
  },
  {
   "cell_type": "code",
   "execution_count": 14,
   "metadata": {},
   "outputs": [
    {
     "data": {
      "text/plain": [
       "(TensorShape([8, 64]), TensorShape([8, 64]))"
      ]
     },
     "execution_count": 14,
     "metadata": {},
     "output_type": "execute_result"
    }
   ],
   "source": [
    "out.shape,xt1[0].shape"
   ]
  },
  {
   "cell_type": "code",
   "execution_count": 15,
   "metadata": {},
   "outputs": [
    {
     "data": {
      "text/plain": [
       "[<tf.Variable 'kernel:0' shape=(100, 64) dtype=float32, numpy=\n",
       " array([[-0.00640079, -0.12984654, -0.02969642, ...,  0.06039654,\n",
       "         -0.08218826,  0.01885659],\n",
       "        [ 0.10211475, -0.07486852, -0.06810126, ..., -0.0979297 ,\n",
       "         -0.05193917, -0.10632212],\n",
       "        [ 0.03461631, -0.08166032,  0.02634825, ...,  0.08819743,\n",
       "         -0.05791144, -0.14014924],\n",
       "        ...,\n",
       "        [ 0.1257103 , -0.1828993 , -0.1486468 , ...,  0.0077257 ,\n",
       "          0.03304191,  0.05503471],\n",
       "        [ 0.1763599 ,  0.0296919 , -0.17342275, ..., -0.13892391,\n",
       "          0.14954974,  0.07974298],\n",
       "        [-0.1318248 ,  0.01640885,  0.13628323, ..., -0.06069523,\n",
       "          0.17974795, -0.03248492]], dtype=float32)>,\n",
       " <tf.Variable 'recurrent_kernel:0' shape=(64, 64) dtype=float32, numpy=\n",
       " array([[-0.05354011,  0.18444194, -0.12552366, ..., -0.01768488,\n",
       "         -0.16753767, -0.19983152],\n",
       "        [ 0.03977003,  0.3143643 ,  0.2694412 , ...,  0.09904367,\n",
       "         -0.07608538,  0.04141185],\n",
       "        [-0.20458794, -0.00857015,  0.08095407, ..., -0.09777591,\n",
       "          0.03271502,  0.01769393],\n",
       "        ...,\n",
       "        [ 0.01991265, -0.05335603, -0.03203233, ..., -0.12445605,\n",
       "          0.11319036, -0.14818673],\n",
       "        [ 0.09419914, -0.01331739,  0.26643133, ...,  0.0370836 ,\n",
       "         -0.06288998,  0.10974063],\n",
       "        [-0.00787903, -0.22253667, -0.02969467, ...,  0.16008005,\n",
       "          0.00477484,  0.08892223]], dtype=float32)>,\n",
       " <tf.Variable 'bias:0' shape=(64,) dtype=float32, numpy=\n",
       " array([0., 0., 0., 0., 0., 0., 0., 0., 0., 0., 0., 0., 0., 0., 0., 0., 0.,\n",
       "        0., 0., 0., 0., 0., 0., 0., 0., 0., 0., 0., 0., 0., 0., 0., 0., 0.,\n",
       "        0., 0., 0., 0., 0., 0., 0., 0., 0., 0., 0., 0., 0., 0., 0., 0., 0.,\n",
       "        0., 0., 0., 0., 0., 0., 0., 0., 0., 0., 0., 0., 0.], dtype=float32)>]"
      ]
     },
     "execution_count": 15,
     "metadata": {},
     "output_type": "execute_result"
    }
   ],
   "source": [
    "simp_cell.trainable_variables"
   ]
  },
  {
   "cell_type": "code",
   "execution_count": null,
   "metadata": {},
   "outputs": [],
   "source": []
  },
  {
   "cell_type": "code",
   "execution_count": 18,
   "metadata": {},
   "outputs": [],
   "source": [
    "# 多层RNN的实现\n",
    "simp_rnn_cell0 = keras.layers.SimpleRNNCell(64)\n",
    "simp_rnn_cell1 = keras.layers.SimpleRNNCell(64)\n",
    "\n",
    "input_data = tf.random.normal([8,80,100])\n",
    "xt0 = input_data[:,0,:]\n",
    "\n",
    "state0 = [tf.zeros([8,64])]\n",
    "state1 = [tf.zeros([8,64])]\n",
    "\n",
    "out0,state0 = simp_rnn_cell0(xt0,state0)\n",
    "out1,state1 = simp_rnn_cell1(out0,state1)"
   ]
  },
  {
   "cell_type": "code",
   "execution_count": 19,
   "metadata": {},
   "outputs": [],
   "source": [
    "# 对批量的句子进行迭代\n",
    "for words in tf.unstack(input_data,axis=1): # 在1维度上进行迭代\n",
    "    out0,state0 = simp_rnn_cell0(words,state0)\n",
    "    out1,state1 = simp_rnn_cell1(out0,state1)\n"
   ]
  },
  {
   "cell_type": "code",
   "execution_count": null,
   "metadata": {},
   "outputs": [],
   "source": []
  },
  {
   "cell_type": "code",
   "execution_count": 28,
   "metadata": {},
   "outputs": [],
   "source": [
    "units = 64 # 这个值代表的是RNN网络cell的输出维度\n",
    "# 一种比较简单的RNN网购狗仔方法:使用Sequential对象进行管理\n",
    "rnn = keras.Sequential([\n",
    "    keras.layers.SimpleRNN(units,dropout = 0.5, return_sequences = True, unroll = True), \n",
    "    # return_sequences 表示每次时间节点的计算都需要范湖一个值给下一层网络当做输入使用, 如果不设置这个值, 那么网络层只返回最后一个时间节点计算得到的值值\n",
    "    keras.layers.SimpleRNN(units,dropout = 0.5, unroll = True)\n",
    "])\n",
    "# SimpleRNN相对于SimpleRNNCell的区别就是, SimpleRNN不需要我们对输入项进行时间维度的抽取切片, 系统会自动完成\n",
    "input_data = tf.random.normal([8,80,100])\n",
    "out = rnn(input_data)\n",
    "# out是最后一层的最优一个时间节点的计算输出"
   ]
  },
  {
   "cell_type": "code",
   "execution_count": 29,
   "metadata": {},
   "outputs": [
    {
     "data": {
      "text/plain": [
       "TensorShape([8, 64])"
      ]
     },
     "execution_count": 29,
     "metadata": {},
     "output_type": "execute_result"
    }
   ],
   "source": [
    "out.shape"
   ]
  },
  {
   "cell_type": "code",
   "execution_count": null,
   "metadata": {},
   "outputs": [],
   "source": []
  },
  {
   "cell_type": "code",
   "execution_count": null,
   "metadata": {},
   "outputs": [],
   "source": []
  },
  {
   "cell_type": "code",
   "execution_count": null,
   "metadata": {},
   "outputs": [],
   "source": []
  }
 ],
 "metadata": {
  "kernelspec": {
   "display_name": "Python 3",
   "language": "python",
   "name": "python3"
  },
  "language_info": {
   "codemirror_mode": {
    "name": "ipython",
    "version": 3
   },
   "file_extension": ".py",
   "mimetype": "text/x-python",
   "name": "python",
   "nbconvert_exporter": "python",
   "pygments_lexer": "ipython3",
   "version": "3.6.8"
  }
 },
 "nbformat": 4,
 "nbformat_minor": 2
}
