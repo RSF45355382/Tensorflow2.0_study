{
 "cells": [
  {
   "cell_type": "code",
   "execution_count": 1,
   "metadata": {},
   "outputs": [],
   "source": [
    "import tensorflow as tf "
   ]
  },
  {
   "cell_type": "code",
   "execution_count": 2,
   "metadata": {},
   "outputs": [],
   "source": [
    "x = tf.random.normal([2,4])\n",
    "w = tf.random.normal([4,3])\n",
    "b = tf.ones([3])\n",
    "y = tf.constant([2,0])"
   ]
  },
  {
   "cell_type": "code",
   "execution_count": 3,
   "metadata": {},
   "outputs": [],
   "source": [
    "with tf.GradientTape() as tape:\n",
    "    tape.watch([w,b])\n",
    "    prob = tf.nn.softmax(x@w+b)\n",
    "    loss = tf.reduce_mean(tf.losses.MSE(tf.one_hot(y,depth = 3),prob))"
   ]
  },
  {
   "cell_type": "code",
   "execution_count": 4,
   "metadata": {},
   "outputs": [
    {
     "name": "stdout",
     "output_type": "stream",
     "text": [
      "[<tf.Tensor: id=63, shape=(4, 3), dtype=float32, numpy=\n",
      "array([[-0.00851926, -0.02099578,  0.02951503],\n",
      "       [-0.06864865,  0.00785428,  0.06079438],\n",
      "       [-0.00418644, -0.01643274,  0.02061917],\n",
      "       [-0.1359446 , -0.02088649,  0.15683109]], dtype=float32)>, <tf.Tensor: id=62, shape=(3,), dtype=float32, numpy=array([-0.08092055,  0.01556028,  0.06536027], dtype=float32)>]\n"
     ]
    }
   ],
   "source": [
    "grads = tape.gradient(loss,[w,b])\n",
    "print(grads)"
   ]
  },
  {
   "cell_type": "code",
   "execution_count": null,
   "metadata": {},
   "outputs": [],
   "source": []
  },
  {
   "cell_type": "code",
   "execution_count": null,
   "metadata": {},
   "outputs": [],
   "source": []
  },
  {
   "cell_type": "code",
   "execution_count": null,
   "metadata": {},
   "outputs": [],
   "source": []
  },
  {
   "cell_type": "code",
   "execution_count": null,
   "metadata": {},
   "outputs": [],
   "source": []
  }
 ],
 "metadata": {
  "kernelspec": {
   "display_name": "Python 3",
   "language": "python",
   "name": "python3"
  },
  "language_info": {
   "codemirror_mode": {
    "name": "ipython",
    "version": 3
   },
   "file_extension": ".py",
   "mimetype": "text/x-python",
   "name": "python",
   "nbconvert_exporter": "python",
   "pygments_lexer": "ipython3",
   "version": "3.6.8"
  }
 },
 "nbformat": 4,
 "nbformat_minor": 2
}
