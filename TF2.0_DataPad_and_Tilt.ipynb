{
 "cells": [
  {
   "cell_type": "code",
   "execution_count": 1,
   "metadata": {},
   "outputs": [],
   "source": [
    "import tensorflow as tf "
   ]
  },
  {
   "cell_type": "markdown",
   "metadata": {},
   "source": [
    "# 数据的填充和复制\n",
    "填充pad\n",
    "复制tile(以及之前将的broadcast_to)"
   ]
  },
  {
   "cell_type": "code",
   "execution_count": null,
   "metadata": {},
   "outputs": [],
   "source": []
  },
  {
   "cell_type": "markdown",
   "metadata": {},
   "source": [
    "## 数据填充"
   ]
  },
  {
   "cell_type": "code",
   "execution_count": 3,
   "metadata": {},
   "outputs": [],
   "source": [
    "a = tf.random.normal([2])"
   ]
  },
  {
   "cell_type": "code",
   "execution_count": 6,
   "metadata": {},
   "outputs": [
    {
     "data": {
      "text/plain": [
       "TensorShape([7])"
      ]
     },
     "execution_count": 6,
     "metadata": {},
     "output_type": "execute_result"
    }
   ],
   "source": [
    "tf.pad(a,[[3,2]]).shape\n",
    "# 这里第二个参数是两层[],第一层[]代表各个维度, 第二层[]代表这个维度上两个方向的pad长度, 这里相当于是在a的一个维度上进行左边3个padding, 右边2个padding"
   ]
  },
  {
   "cell_type": "code",
   "execution_count": 7,
   "metadata": {},
   "outputs": [],
   "source": [
    "b = tf.random.normal([3,4])"
   ]
  },
  {
   "cell_type": "code",
   "execution_count": 8,
   "metadata": {},
   "outputs": [
    {
     "data": {
      "text/plain": [
       "<tf.Tensor: id=24, shape=(4, 5), dtype=float32, numpy=\n",
       "array([[ 0.        ,  0.        ,  0.        ,  0.        ,  0.        ],\n",
       "       [ 0.3233648 ,  0.15780583,  0.8687261 ,  0.4064283 ,  0.        ],\n",
       "       [ 2.0178568 , -0.81621975, -2.5033035 , -0.76135814,  0.        ],\n",
       "       [-0.72688043, -0.18983746,  0.71761984,  0.8353507 ,  0.        ]],\n",
       "      dtype=float32)>"
      ]
     },
     "execution_count": 8,
     "metadata": {},
     "output_type": "execute_result"
    }
   ],
   "source": [
    "tf.pad(b,[[1,0],[0,1]])"
   ]
  },
  {
   "cell_type": "code",
   "execution_count": 10,
   "metadata": {},
   "outputs": [
    {
     "data": {
      "text/plain": [
       "TensorShape([4, 30, 30, 3])"
      ]
     },
     "execution_count": 10,
     "metadata": {},
     "output_type": "execute_result"
    }
   ],
   "source": [
    "# image的padding\n",
    "c = tf.random.normal([4,28,28,3])\n",
    "tf.pad(c,[[0,0],# 图片数量不进行padding\n",
    "         [1,1],# 高度方向进行上下各1的padding\n",
    "         [1,1],# 宽度方向进行左右个1的padding\n",
    "         [0,0]]# 色彩通道不进行padding\n",
    "      ).shape\n",
    "# 一般图片的padding用在卷积神经网络"
   ]
  },
  {
   "cell_type": "code",
   "execution_count": null,
   "metadata": {},
   "outputs": [],
   "source": []
  },
  {
   "cell_type": "markdown",
   "metadata": {},
   "source": [
    "# 数据复制\n",
    "按照某个维度将数据复制n次\n",
    "tile操作会在内存中真是扩展内存, broadingcast操作并不会真实扩展内存占用\n",
    "一般推荐使用broadingcast操作"
   ]
  },
  {
   "cell_type": "code",
   "execution_count": 21,
   "metadata": {},
   "outputs": [
    {
     "name": "stdout",
     "output_type": "stream",
     "text": [
      "tf.Tensor(\n",
      "[[2 8 0]\n",
      " [1 5 6]], shape=(2, 3), dtype=int32)\n"
     ]
    }
   ],
   "source": [
    "d = tf.random.uniform([2,3],maxval=10,dtype=tf.int32)\n",
    "print(d)"
   ]
  },
  {
   "cell_type": "code",
   "execution_count": 22,
   "metadata": {},
   "outputs": [
    {
     "data": {
      "text/plain": [
       "<tf.Tensor: id=70, shape=(2, 6), dtype=int32, numpy=\n",
       "array([[2, 8, 0, 2, 8, 0],\n",
       "       [1, 5, 6, 1, 5, 6]])>"
      ]
     },
     "execution_count": 22,
     "metadata": {},
     "output_type": "execute_result"
    }
   ],
   "source": [
    "tf.tile(d,[1,2])\n",
    "# [1,2]中1代表在axis = 0维度上复制一次(相当于不复制)\n",
    "# 2代表在axis = 1维度上复制2次"
   ]
  },
  {
   "cell_type": "code",
   "execution_count": 23,
   "metadata": {},
   "outputs": [
    {
     "data": {
      "text/plain": [
       "<tf.Tensor: id=72, shape=(6, 6), dtype=int32, numpy=\n",
       "array([[2, 8, 0, 2, 8, 0],\n",
       "       [1, 5, 6, 1, 5, 6],\n",
       "       [2, 8, 0, 2, 8, 0],\n",
       "       [1, 5, 6, 1, 5, 6],\n",
       "       [2, 8, 0, 2, 8, 0],\n",
       "       [1, 5, 6, 1, 5, 6]])>"
      ]
     },
     "execution_count": 23,
     "metadata": {},
     "output_type": "execute_result"
    }
   ],
   "source": [
    "tf.tile(d,[3,2])"
   ]
  },
  {
   "cell_type": "code",
   "execution_count": null,
   "metadata": {},
   "outputs": [],
   "source": []
  }
 ],
 "metadata": {
  "kernelspec": {
   "display_name": "Python 3",
   "language": "python",
   "name": "python3"
  },
  "language_info": {
   "codemirror_mode": {
    "name": "ipython",
    "version": 3
   },
   "file_extension": ".py",
   "mimetype": "text/x-python",
   "name": "python",
   "nbconvert_exporter": "python",
   "pygments_lexer": "ipython3",
   "version": "3.6.8"
  }
 },
 "nbformat": 4,
 "nbformat_minor": 2
}
