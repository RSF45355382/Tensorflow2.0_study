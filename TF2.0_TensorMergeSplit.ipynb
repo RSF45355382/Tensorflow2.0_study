{
 "cells": [
  {
   "cell_type": "code",
   "execution_count": 1,
   "metadata": {},
   "outputs": [],
   "source": [
    "import tensorflow as tf \n"
   ]
  },
  {
   "cell_type": "markdown",
   "metadata": {},
   "source": [
    "#### 拼接与分割\n",
    "tf.concat\n",
    "    拼接\n",
    "tf.stack\n",
    "    堆叠\n",
    "tf.split\n",
    "    分割\n",
    "tf.unstack\n",
    "    这个其实是split的一种"
   ]
  },
  {
   "cell_type": "code",
   "execution_count": 2,
   "metadata": {},
   "outputs": [
    {
     "data": {
      "text/plain": [
       "TensorShape([6, 3, 8])"
      ]
     },
     "execution_count": 2,
     "metadata": {},
     "output_type": "execute_result"
    }
   ],
   "source": [
    "a = tf.random.normal([4,3,8])\n",
    "b = tf.random.normal([2,3,8])\n",
    "\n",
    "tf.concat([a,b],axis=0).shape\n",
    "# 按照axis = 0的维度进行合并"
   ]
  },
  {
   "cell_type": "code",
   "execution_count": 3,
   "metadata": {},
   "outputs": [
    {
     "data": {
      "text/plain": [
       "TensorShape([4, 35, 8])"
      ]
     },
     "execution_count": 3,
     "metadata": {},
     "output_type": "execute_result"
    }
   ],
   "source": [
    "c = tf.random.normal([4,32,8])\n",
    "d = tf.random.normal([4,3,8])\n",
    "tf.concat([c,d],axis=1).shape\n",
    "# 按照axis = 1的维度进行合并,(要保证其余维度的长度是相等的)"
   ]
  },
  {
   "cell_type": "code",
   "execution_count": 4,
   "metadata": {},
   "outputs": [
    {
     "data": {
      "text/plain": [
       "TensorShape([4, 17, 8])"
      ]
     },
     "execution_count": 4,
     "metadata": {},
     "output_type": "execute_result"
    }
   ],
   "source": [
    "e = tf.random.normal([4,5,8])\n",
    "f = tf.random.normal([4,3,8])\n",
    "g = tf.random.normal([4,9,8])\n",
    "tf.concat([e,f,g],axis=1).shape"
   ]
  },
  {
   "cell_type": "code",
   "execution_count": 5,
   "metadata": {},
   "outputs": [
    {
     "data": {
      "text/plain": [
       "TensorShape([2, 4, 35, 8])"
      ]
     },
     "execution_count": 5,
     "metadata": {},
     "output_type": "execute_result"
    }
   ],
   "source": [
    "m = tf.random.normal([4,35,8])\n",
    "n = tf.random.normal([4,35,8])\n",
    "tf.stack([m,n],axis=0).shape\n",
    "# stack操作会在axis这个参数的周的位置前面新增一个维度(要保证其余维度的长度是相等的)"
   ]
  },
  {
   "cell_type": "code",
   "execution_count": 6,
   "metadata": {},
   "outputs": [
    {
     "data": {
      "text/plain": [
       "TensorShape([4, 2, 35, 8])"
      ]
     },
     "execution_count": 6,
     "metadata": {},
     "output_type": "execute_result"
    }
   ],
   "source": [
    "tf.stack([m,n],axis=1).shape"
   ]
  },
  {
   "cell_type": "code",
   "execution_count": 7,
   "metadata": {},
   "outputs": [
    {
     "data": {
      "text/plain": [
       "TensorShape([4, 35, 2, 8])"
      ]
     },
     "execution_count": 7,
     "metadata": {},
     "output_type": "execute_result"
    }
   ],
   "source": [
    "tf.stack([m,n],axis=2).shape"
   ]
  },
  {
   "cell_type": "code",
   "execution_count": 8,
   "metadata": {},
   "outputs": [
    {
     "data": {
      "text/plain": [
       "TensorShape([4, 35, 8, 2])"
      ]
     },
     "execution_count": 8,
     "metadata": {},
     "output_type": "execute_result"
    }
   ],
   "source": [
    "tf.stack([m,n],axis=3).shape"
   ]
  },
  {
   "cell_type": "code",
   "execution_count": null,
   "metadata": {},
   "outputs": [],
   "source": []
  },
  {
   "cell_type": "code",
   "execution_count": 16,
   "metadata": {},
   "outputs": [
    {
     "data": {
      "text/plain": [
       "(TensorShape([4, 2, 32, 8]),\n",
       " TensorShape([4, 32, 8]),\n",
       " TensorShape([4, 32, 8]),\n",
       " TensorShape([4, 32]),\n",
       " TensorShape([4, 32]))"
      ]
     },
     "execution_count": 16,
     "metadata": {},
     "output_type": "execute_result"
    }
   ],
   "source": [
    "o = tf.random.normal([4,32,8])\n",
    "p = tf.random.normal([4,32,8])\n",
    "q = tf.stack([o,p],axis = 1)\n",
    "\n",
    "uns1,uns2 = tf.unstack(q,axis=1)\n",
    "\n",
    "\n",
    "uns = tf.unstack(o,axis = 2)\n",
    "q.shape,uns1.shape,uns2.shape,uns[0].shape,uns[7].shape\n",
    "# unstack会在指定的维度上将所有的元素都打散, 也就是说这个维度有多长, 就会打散出多少个子集"
   ]
  },
  {
   "cell_type": "code",
   "execution_count": 17,
   "metadata": {},
   "outputs": [
    {
     "data": {
      "text/plain": [
       "(2, TensorShape([4, 35, 4]))"
      ]
     },
     "execution_count": 17,
     "metadata": {},
     "output_type": "execute_result"
    }
   ],
   "source": [
    "x = tf.random.normal([4,35,8])\n",
    "res = tf.split(x,axis=2,num_or_size_splits=2)\n",
    "# 这里设定axis = 3,代表在低2个维度上进行分割\n",
    "# num_or_size_splits = 2代表分割为2份,没有特殊指明, 就是平均分割成2分\n",
    "len(res),res[0].shape"
   ]
  },
  {
   "cell_type": "code",
   "execution_count": 19,
   "metadata": {},
   "outputs": [
    {
     "data": {
      "text/plain": [
       "(3, TensorShape([4, 35, 2]))"
      ]
     },
     "execution_count": 19,
     "metadata": {},
     "output_type": "execute_result"
    }
   ],
   "source": [
    "res2 = tf.split(x,axis=2,num_or_size_splits=[4,2,2])\n",
    "# num_or_size_splits = [4,2,2]代表分割为3份,按照4:2:2的比例进行分割\n",
    "len(res2),res2[1].shape"
   ]
  },
  {
   "cell_type": "code",
   "execution_count": null,
   "metadata": {},
   "outputs": [],
   "source": []
  }
 ],
 "metadata": {
  "kernelspec": {
   "display_name": "Python 3",
   "language": "python",
   "name": "python3"
  },
  "language_info": {
   "codemirror_mode": {
    "name": "ipython",
    "version": 3
   },
   "file_extension": ".py",
   "mimetype": "text/x-python",
   "name": "python",
   "nbconvert_exporter": "python",
   "pygments_lexer": "ipython3",
   "version": "3.6.8"
  }
 },
 "nbformat": 4,
 "nbformat_minor": 2
}
